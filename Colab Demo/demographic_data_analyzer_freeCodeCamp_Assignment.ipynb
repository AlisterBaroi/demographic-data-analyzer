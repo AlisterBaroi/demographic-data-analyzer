{
  "nbformat": 4,
  "nbformat_minor": 0,
  "metadata": {
    "colab": {
      "name": "demographic-data-analyzer - freeCodeCamp Assignment.ipynb",
      "provenance": []
    },
    "kernelspec": {
      "name": "python3",
      "display_name": "Python 3"
    },
    "language_info": {
      "name": "python"
    }
  },
  "cells": [
    {
      "cell_type": "markdown",
      "source": [
        "# Demographic Data Analyzer Assignmant\n",
        "In this challenge you must analyze demographic data using Pandas. You are given a dataset of demographic data that was extracted from the 1994 Census database.\n",
        "\n",
        "You must use Pandas to answer the following questions:\n",
        "*   How many people of each race are represented in this dataset? This should be a Pandas series with race names as the index labels. (race column)\n",
        "*   What is the average age of men?\n",
        "*   What is the percentage of people who have a Bachelor's degree?\n",
        "*   What percentage of people with advanced education (Bachelors, Masters, or Doctorate) make more than 50K?\n",
        "*   What percentage of people without advanced education make more than 50K?\n",
        "*   What is the minimum number of hours a person works per week?\n",
        "*   What percentage of the people who work the minimum number of hours per week have a salary of more than 50K?\n",
        "*   What country has the highest percentage of people that earn >50K and what is that percentage?\n",
        "*   Identify the most popular occupation for those who earn >50K in India.\n",
        "\n",
        "Use the starter code in the file demographic_data_analyzer. Update the code so all variables set to \"None\" are set to the appropriate calculation or code. Round all decimals to the nearest tenth.\n",
        "\n",
        "### Dataset Source\n",
        "Dua, D. and Graff, C. (2019). UCI Machine Learning Repository [http://archive.ics.uci.edu/ml]. Irvine, CA: University of California, School of Information and Computer Science.\n",
        "\n"
      ],
      "metadata": {
        "id": "oC-5NrK5Q-dp"
      }
    },
    {
      "cell_type": "code",
      "execution_count": 1,
      "metadata": {
        "id": "GOGuA9i7Qst3"
      },
      "outputs": [],
      "source": [
        "import pandas as pd"
      ]
    },
    {
      "cell_type": "code",
      "source": [
        "def calculate_demographic_data(print_data=True):\n",
        "    # Read data from file\n",
        "    df = pd.read_csv('https://raw.githubusercontent.com/AlisterBaroi/demographic-data-analyzer/main/adult.data.csv?token=GHSAT0AAAAAABSGSVKNOICP5MFYO5ORP7VQYST2VFA')\n",
        "\n",
        "    # How many of each race are represented in this dataset? This should be a Pandas series with race names as the index labels.\n",
        "    race_count = df['race'].value_counts()\n",
        "\n",
        "    # What is the average age of men?\n",
        "    average_age_men = round(df['age'][df['sex']=='Male'].mean(), 1)\n",
        "\n",
        "    # What is the percentage of people who have a Bachelor's degree?\n",
        "    bac = df['education'][df['education']=='Bachelors'].count()\n",
        "    edu = df['education'].count()\n",
        "    percentage_bachelors = round((bac / edu) * 100, 1)\n",
        "\n",
        "    # What percentage of people with advanced education (`Bachelors`, `Masters`, or `Doctorate`) make more than 50K?\n",
        "    # What percentage of people without advanced education make more than 50K?\n",
        "\n",
        "    # Total people of >50K\n",
        "    sal_50 = df['salary'][df['salary']=='>50K'].count()  \n",
        "    bac_sal = df['salary'][df['salary']=='>50K'][df['education']=='Bachelors'].count()\n",
        "    mas_sal = df['salary'][df['salary']=='>50K'][df['education']=='Masters'].count()  \n",
        "    phd_sal = df['salary'][df['salary']=='>50K'][df['education']=='Doctorate'].count()   \n",
        "  \n",
        "    # with and without `Bachelors`, `Masters`, or `Doctorate`\n",
        "    higher_education=[df[df[\"education\"]==\"Bachelors\"],df[df[\"education\"]==\"Masters\"],df[df[\"education\"]==\"Docatrate\"]]\n",
        "    higher_education=pd.concat(higher_education)\n",
        "    lower_education = sal_50 - bac_sal - mas_sal - phd_sal\n",
        "\n",
        "    # percentage with salary >50K\n",
        "    higher_education_rich=round((len(higher_education[higher_education[\"salary\"]==\">50K\"])/len(higher_education))*100, 1)\n",
        "\n",
        "    uneducated_groups = df[df[\"education\"] != \"Bachelors\"]\n",
        "    uneducated_groups = uneducated_groups[uneducated_groups[\"education\"] != \"Masters\"]\n",
        "    uneducated_groups = uneducated_groups[uneducated_groups[\"education\"] != \"Doctorate\"]\n",
        "    lower_education_rich = round ((len( uneducated_groups[uneducated_groups[\"salary\"] == \">50K\"]) / len(uneducated_groups)) * 100, 1)\n",
        "\n",
        "    # What is the minimum number of hours a person works per week (hours-per-week feature)?\n",
        "    min_work_hours = df['hours-per-week'].min()\n",
        "\n",
        "    # What percentage of the people who work the minimum number of hours per week have a salary of >50K?\n",
        "    num_min_workers = df['hours-per-week'][df['hours-per-week']==min_work_hours].count()\n",
        "\n",
        "    # total number of 1$/hr & 50K+ earners  \n",
        "    rich_percentage =  round(len(df[(df['hours-per-week'] == min_work_hours) & (df['salary'] == '>50K')]) / num_min_workers * 100, 1)\n",
        "\n",
        "    highest_earning_country_percentage = (df[df[\"salary\"] == \">50K\"][\"native-country\"].value_counts() / df[\"native-country\"].value_counts())*100\n",
        "    highest_earning_country_percentage = round(highest_earning_country_percentage.max(), 1)\n",
        "\n",
        "    # What country has the highest percentage of people that earn >50K?\n",
        "    wealth_percentages = (df[df[\"salary\"] == \">50K\"][\"native-country\"].value_counts() / df[\"native-country\"].value_counts())*100\n",
        "    highest_earning_country = wealth_percentages.idxmax()\n",
        "\n",
        "    # Identify the most popular occupation for those who earn >50K in India.\n",
        "    rich_indians = df[df[\"native-country\"] == \"India\"]\n",
        "    rich_indians = rich_indians[rich_indians[\"salary\"] == \">50K\"]\n",
        "    top_IN_occupation = rich_indians['occupation'].value_counts().idxmax()\n",
        "\n",
        "    # DO NOT MODIFY BELOW THIS LINE\n",
        "\n",
        "    if print_data:\n",
        "        print(\"Number of each race:\\n\", race_count) \n",
        "        print(\"Average age of men:\", average_age_men)\n",
        "        print(f\"Percentage with Bachelors degrees: {percentage_bachelors}%\")\n",
        "        print(f\"Percentage with higher education that earn >50K: {higher_education_rich}%\")\n",
        "        print(f\"Percentage without higher education that earn >50K: {lower_education_rich}%\")\n",
        "        print(f\"Min work time: {min_work_hours} hours/week\")\n",
        "        print(f\"Percentage of rich among those who work fewest hours: {rich_percentage}%\")\n",
        "        print(\"Country with highest percentage of rich:\", highest_earning_country)\n",
        "        print(f\"Highest percentage of rich people in country: {highest_earning_country_percentage}%\")\n",
        "        print(\"Top occupations in India:\", top_IN_occupation)\n",
        "\n",
        "    return {\n",
        "        'race_count': race_count,\n",
        "        'average_age_men': average_age_men,\n",
        "        'percentage_bachelors': percentage_bachelors,\n",
        "        'higher_education_rich': higher_education_rich,\n",
        "        'lower_education_rich': lower_education_rich,\n",
        "        'min_work_hours': min_work_hours,\n",
        "        'rich_percentage': rich_percentage,\n",
        "        'highest_earning_country': highest_earning_country,\n",
        "        'highest_earning_country_percentage':\n",
        "        highest_earning_country_percentage,\n",
        "        'top_IN_occupation': top_IN_occupation\n",
        "    }"
      ],
      "metadata": {
        "id": "Kuk8Ki02Qvyt"
      },
      "execution_count": 2,
      "outputs": []
    },
    {
      "cell_type": "code",
      "source": [
        "calculate_demographic_data()"
      ],
      "metadata": {
        "colab": {
          "base_uri": "https://localhost:8080/"
        },
        "id": "d4sj2CnLQ4d6",
        "outputId": "034719e2-b5d7-44e7-93b0-b3e85a87c39d"
      },
      "execution_count": 3,
      "outputs": [
        {
          "output_type": "stream",
          "name": "stdout",
          "text": [
            "Number of each race:\n",
            " White                 27816\n",
            "Black                  3124\n",
            "Asian-Pac-Islander     1039\n",
            "Amer-Indian-Eskimo      311\n",
            "Other                   271\n",
            "Name: race, dtype: int64\n",
            "Average age of men: 39.4\n",
            "Percentage with Bachelors degrees: 16.4%\n",
            "Percentage with higher education that earn >50K: 44.9%\n",
            "Percentage without higher education that earn >50K: 17.4%\n",
            "Min work time: 1 hours/week\n",
            "Percentage of rich among those who work fewest hours: 10.0%\n",
            "Country with highest percentage of rich: Iran\n",
            "Highest percentage of rich people in country: 41.9%\n",
            "Top occupations in India: Prof-specialty\n"
          ]
        },
        {
          "output_type": "execute_result",
          "data": {
            "text/plain": [
              "{'average_age_men': 39.4,\n",
              " 'higher_education_rich': 44.9,\n",
              " 'highest_earning_country': 'Iran',\n",
              " 'highest_earning_country_percentage': 41.9,\n",
              " 'lower_education_rich': 17.4,\n",
              " 'min_work_hours': 1,\n",
              " 'percentage_bachelors': 16.4,\n",
              " 'race_count': White                 27816\n",
              " Black                  3124\n",
              " Asian-Pac-Islander     1039\n",
              " Amer-Indian-Eskimo      311\n",
              " Other                   271\n",
              " Name: race, dtype: int64,\n",
              " 'rich_percentage': 10.0,\n",
              " 'top_IN_occupation': 'Prof-specialty'}"
            ]
          },
          "metadata": {},
          "execution_count": 3
        }
      ]
    }
  ]
}